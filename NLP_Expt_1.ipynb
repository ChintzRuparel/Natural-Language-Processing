{
  "nbformat": 4,
  "nbformat_minor": 0,
  "metadata": {
    "colab": {
      "provenance": [],
      "include_colab_link": true
    },
    "kernelspec": {
      "name": "python3",
      "display_name": "Python 3"
    },
    "language_info": {
      "name": "python"
    }
  },
  "cells": [
    {
      "cell_type": "markdown",
      "metadata": {
        "id": "view-in-github",
        "colab_type": "text"
      },
      "source": [
        "<a href=\"https://colab.research.google.com/github/ChintzRuparel/Natural-Language-Processing/blob/main/NLP_Expt_1.ipynb\" target=\"_parent\"><img src=\"https://colab.research.google.com/assets/colab-badge.svg\" alt=\"Open In Colab\"/></a>"
      ]
    },
    {
      "cell_type": "code",
      "execution_count": null,
      "metadata": {
        "id": "YmxDEjnb_Qp2"
      },
      "outputs": [],
      "source": [
        "import nltk\n",
        "import spacy"
      ]
    },
    {
      "cell_type": "code",
      "source": [
        "# convert the corpus to lower case\n",
        "corpus_lower = corpus.lower()\n",
        "print(corpus_lower)"
      ],
      "metadata": {
        "id": "nI1urzAn_dws"
      },
      "execution_count": null,
      "outputs": []
    },
    {
      "cell_type": "code",
      "source": [
        "# importing random expression\n",
        "import re"
      ],
      "metadata": {
        "id": "yKbvqmKT_ek0"
      },
      "execution_count": null,
      "outputs": []
    },
    {
      "cell_type": "code",
      "source": [
        "# substituting digit by space\n",
        "corpus_new = re.sub(r'\\d+', ' ', corpus_lower)\n",
        "print(corpus_new)"
      ],
      "metadata": {
        "id": "nIcR1Vap_eft"
      },
      "execution_count": null,
      "outputs": []
    },
    {
      "cell_type": "code",
      "source": [
        "# removing punctuation marks\n",
        "import string\n",
        "corpus_new = corpus_new.translate(str.maketrans(\"\", \"\", string.punctuation))"
      ],
      "metadata": {
        "id": "N40N4hM7_eYk"
      },
      "execution_count": null,
      "outputs": []
    },
    {
      "cell_type": "code",
      "source": [
        "# importing libraries\n",
        "from nltk.tokenize import word_tokenize\n",
        "from pprint import pprint # used for beautifying the print text\n",
        "from nltk.corpus import stopwords\n",
        "nltk.download('stopwords')\n",
        "nltk.download('punkt')"
      ],
      "metadata": {
        "id": "rEJfK8VV_eNc"
      },
      "execution_count": null,
      "outputs": []
    },
    {
      "cell_type": "code",
      "source": [
        "# initialize stopwords\n",
        "stop_words_nltk = set(stopwords.words('english'))\n",
        "print(stop_words_nltk)\n",
        "\n",
        "{'of', 'is', 'an', 'further', 'most', 'nor', 'against', 'should', 'she', 'but', 'him', 'have', 'how', 'm', \"mightn't\", 'doing', 'there', 'these', 'out', \"hasn't\", 'yours', 'it','just', 'me', 'the', 's', 'am', \"mustn't\", 'on', 'by', 'her', 'you', 'y', \"needn't\", 'had', 'what', 'shouldn', 'above', 'yourself', 'why', 'doesn', 'few', 'over', 'its', \"you'd\",'whom', 'wouldn', 'other', 'down', \"shan't\", 'our', 'which', 'as', 'once', 'below', 'very', 'ourselves', 'again', 'then', 'no', 'some', 'itself', 'between', 'couldn', 'does', 'mightn', \"isn't\", 'can', 'been', 'd', 'from', 'than', \"don't\", 'haven', 'being', 'he', 'at', 'wasn', \"it's\", 'after', 'they', 'into', \"weren't\", 'mustn', 'their', 'hasn', 'too', \"won't\", 'here', \"haven't\", 'i', 've', \"hadn't\", \"shouldn't\", \"should've\", 'ours', 'those','under', 'through', 'o', 'himself', \"you'll\", 'my', \"doesn't\", 'don', 'only', 'are', 'ma', 'with', 'hers', 'up', \"she's\", 'such', 'if', \"aren't\", 'about', \"wouldn't\", 'own', 'isn', 'or', 'do', 'did', 'both', 'a', 'won', 'your', 'all', 'them', 'in', 'now', 'because','ll', 'same', \"you've\", 'themselves', 'who', 'during', 'theirs', 'any', 'we', \"you're\", 'having', 'for', 'didn', 'weren', 'not', \"wasn't\", \"couldn't\", 'shan', 'ain', \"that'll\", 'aren', 'was', 'hadn', 't', 'where', 'before', 'be', 'and', 'yourselves', 'off', 'herself', \"didn't\", 'will', 'to', 'myself', 'so', 're', 'were', 'when', 'has', 'that', 'this', 'each', 'needn', 'until', 'more', 'his', 'while'}"
      ],
      "metadata": {
        "id": "7zfFJ2IxAFbZ"
      },
      "execution_count": null,
      "outputs": []
    },
    {
      "cell_type": "code",
      "source": [
        "# tokenize the corpus\n",
        "tokenized_corpus_nltk = word_tokenize(corpus_new)\n",
        "print(tokenized_corpus_nltk)"
      ],
      "metadata": {
        "id": "uqPlb3MSAKGp"
      },
      "execution_count": null,
      "outputs": []
    },
    {
      "cell_type": "code",
      "source": [
        "#Stemming\n",
        "from nltk.stem import PorterStemmer\n",
        "from nltk.tokenize import word_tokenize\n",
        "stemmer= PorterStemmer()\n",
        "print(\"Before Stemming:\")\n",
        "print(corpus_new)\n",
        "print(\"After Stemming:\")\n",
        "for word in tokenized_corpus_without_stopwords:\n",
        "print(stemmer.stem(word),end=\" \")"
      ],
      "metadata": {
        "id": "Xqbj20OEAMk5"
      },
      "execution_count": null,
      "outputs": []
    },
    {
      "cell_type": "code",
      "source": [
        "# lemetizing the text\n",
        "from nltk.stem import WordNetLemmatizer\n",
        "from nltk.tokenize import word_tokenize\n",
        "print(\"After Lemetization:\")\n",
        "lemm = WordNetLemmatizer()\n",
        "for word in tokenized_corpus_without_stopwords:\n",
        "print(lemm.lemmatize(word),end=\" \")"
      ],
      "metadata": {
        "id": "arUy6bW-AOSR"
      },
      "execution_count": null,
      "outputs": []
    }
  ]
}